{
  "nbformat": 4,
  "nbformat_minor": 0,
  "metadata": {
    "kernelspec": {
      "display_name": "Python 3",
      "language": "python",
      "name": "python3"
    },
    "language_info": {
      "codemirror_mode": {
        "name": "ipython",
        "version": 3
      },
      "file_extension": ".py",
      "mimetype": "text/x-python",
      "name": "python",
      "nbconvert_exporter": "python",
      "pygments_lexer": "ipython3",
      "version": "3.6.5"
    },
    "colab": {
      "name": "ADR_Classification_based_on_tweets.ipynb",
      "provenance": []
    }
  },
  "cells": [
    {
      "cell_type": "markdown",
      "metadata": {
        "id": "Nisj2NiyFNQN",
        "colab_type": "text"
      },
      "source": [
        "**Problem Startment**\n",
        "\n",
        "ADR(adverse drug reactions) detection based on tweets posted by user through text classification."
      ]
    },
    {
      "cell_type": "code",
      "metadata": {
        "id": "d32idKQAFNQO",
        "colab_type": "code",
        "colab": {}
      },
      "source": [
        "# loading necessary libraries\n",
        "import pandas as pd, numpy as np\n",
        "from sklearn.linear_model import LogisticRegression\n",
        "from sklearn.feature_extraction.text import CountVectorizer, TfidfVectorizer\n",
        "from sklearn.model_selection import train_test_split\n",
        "import re, string\n",
        "from sklearn.naive_bayes import GaussianNB,MultinomialNB\n",
        "from sklearn.metrics import roc_curve\n",
        "from sklearn.metrics import roc_auc_score\n",
        "from sklearn.metrics import precision_recall_curve\n",
        "from sklearn.metrics import f1_score\n",
        "from sklearn.metrics import auc\n",
        "from sklearn.model_selection import GridSearchCV\n",
        "from matplotlib import pyplot"
      ],
      "execution_count": 0,
      "outputs": []
    },
    {
      "cell_type": "code",
      "metadata": {
        "id": "cV4-9bCkFNQS",
        "colab_type": "code",
        "colab": {}
      },
      "source": [
        "#load the dataset\n",
        "data = pd.read_csv(\"Data.csv\")"
      ],
      "execution_count": 0,
      "outputs": []
    },
    {
      "cell_type": "code",
      "metadata": {
        "id": "DogEB1AoFNQV",
        "colab_type": "code",
        "colab": {
          "base_uri": "https://localhost:8080/",
          "height": 204
        },
        "outputId": "1344ea89-0eca-465c-dd62-735bc4bfa100"
      },
      "source": [
        "data.head()"
      ],
      "execution_count": 6,
      "outputs": [
        {
          "output_type": "execute_result",
          "data": {
            "text/html": [
              "<div>\n",
              "<style scoped>\n",
              "    .dataframe tbody tr th:only-of-type {\n",
              "        vertical-align: middle;\n",
              "    }\n",
              "\n",
              "    .dataframe tbody tr th {\n",
              "        vertical-align: top;\n",
              "    }\n",
              "\n",
              "    .dataframe thead th {\n",
              "        text-align: right;\n",
              "    }\n",
              "</style>\n",
              "<table border=\"1\" class=\"dataframe\">\n",
              "  <thead>\n",
              "    <tr style=\"text-align: right;\">\n",
              "      <th></th>\n",
              "      <th>UserId</th>\n",
              "      <th>TweetId</th>\n",
              "      <th>Tweet</th>\n",
              "      <th>ADR_label</th>\n",
              "    </tr>\n",
              "  </thead>\n",
              "  <tbody>\n",
              "    <tr>\n",
              "      <th>0</th>\n",
              "      <td>10030778</td>\n",
              "      <td>413205</td>\n",
              "      <td>Intravenous azithromycin-induced ototoxicity.</td>\n",
              "      <td>1</td>\n",
              "    </tr>\n",
              "    <tr>\n",
              "      <th>1</th>\n",
              "      <td>10048291</td>\n",
              "      <td>528244</td>\n",
              "      <td>Immobilization, while Paget's bone disease was...</td>\n",
              "      <td>1</td>\n",
              "    </tr>\n",
              "    <tr>\n",
              "      <th>2</th>\n",
              "      <td>10048291</td>\n",
              "      <td>361834</td>\n",
              "      <td>Unaccountable severe hypercalcemia in a patien...</td>\n",
              "      <td>1</td>\n",
              "    </tr>\n",
              "    <tr>\n",
              "      <th>3</th>\n",
              "      <td>10082597</td>\n",
              "      <td>292240</td>\n",
              "      <td>METHODS: We report two cases of pseudoporphyri...</td>\n",
              "      <td>1</td>\n",
              "    </tr>\n",
              "    <tr>\n",
              "      <th>4</th>\n",
              "      <td>10082597</td>\n",
              "      <td>467101</td>\n",
              "      <td>METHODS: We report two cases of pseudoporphyri...</td>\n",
              "      <td>1</td>\n",
              "    </tr>\n",
              "  </tbody>\n",
              "</table>\n",
              "</div>"
            ],
            "text/plain": [
              "     UserId  ...  ADR_label\n",
              "0  10030778  ...          1\n",
              "1  10048291  ...          1\n",
              "2  10048291  ...          1\n",
              "3  10082597  ...          1\n",
              "4  10082597  ...          1\n",
              "\n",
              "[5 rows x 4 columns]"
            ]
          },
          "metadata": {
            "tags": []
          },
          "execution_count": 6
        }
      ]
    },
    {
      "cell_type": "code",
      "metadata": {
        "id": "_xxFkf5iFNQc",
        "colab_type": "code",
        "colab": {
          "base_uri": "https://localhost:8080/",
          "height": 102
        },
        "outputId": "57ded5c6-4337-4802-cf4f-3ffe646ff1fa"
      },
      "source": [
        "#check for missing values\n",
        "data.apply(lambda x: sum(x.isnull()))"
      ],
      "execution_count": 7,
      "outputs": [
        {
          "output_type": "execute_result",
          "data": {
            "text/plain": [
              "UserId       0\n",
              "TweetId      0\n",
              "Tweet        0\n",
              "ADR_label    0\n",
              "dtype: int64"
            ]
          },
          "metadata": {
            "tags": []
          },
          "execution_count": 7
        }
      ]
    },
    {
      "cell_type": "code",
      "metadata": {
        "id": "nBVUY8ZpFNQe",
        "colab_type": "code",
        "colab": {
          "base_uri": "https://localhost:8080/",
          "height": 34
        },
        "outputId": "68f70b00-9a4b-4ab1-ccbb-bb128c97bb6e"
      },
      "source": [
        "data.shape"
      ],
      "execution_count": 8,
      "outputs": [
        {
          "output_type": "execute_result",
          "data": {
            "text/plain": [
              "(23516, 4)"
            ]
          },
          "metadata": {
            "tags": []
          },
          "execution_count": 8
        }
      ]
    },
    {
      "cell_type": "code",
      "metadata": {
        "id": "afA_yguQFNQj",
        "colab_type": "code",
        "colab": {
          "base_uri": "https://localhost:8080/",
          "height": 68
        },
        "outputId": "77d9c36e-da27-4386-ce30-3a3dc633d744"
      },
      "source": [
        "#target column dist\n",
        "(data.ADR_label.value_counts() / len(data))*100"
      ],
      "execution_count": 9,
      "outputs": [
        {
          "output_type": "execute_result",
          "data": {
            "text/plain": [
              "0    70.989964\n",
              "1    29.010036\n",
              "Name: ADR_label, dtype: float64"
            ]
          },
          "metadata": {
            "tags": []
          },
          "execution_count": 9
        }
      ]
    },
    {
      "cell_type": "code",
      "metadata": {
        "id": "x4eCRnUeFdRa",
        "colab_type": "code",
        "colab": {
          "base_uri": "https://localhost:8080/",
          "height": 51
        },
        "outputId": "0f2c6893-8492-4a3f-bb9a-70a1d75d1070"
      },
      "source": [
        "import re \n",
        "import nltk \n",
        "nltk.download('stopwords') \n",
        "from nltk.corpus import stopwords \n",
        "from nltk.stem.porter import PorterStemmer"
      ],
      "execution_count": 1,
      "outputs": [
        {
          "output_type": "stream",
          "text": [
            "[nltk_data] Downloading package stopwords to /root/nltk_data...\n",
            "[nltk_data]   Unzipping corpora/stopwords.zip.\n"
          ],
          "name": "stdout"
        }
      ]
    },
    {
      "cell_type": "code",
      "metadata": {
        "id": "SGf4QM1NFfD-",
        "colab_type": "code",
        "colab": {}
      },
      "source": [
        "corpus = []        \n",
        "for i in range(len(data['Tweet'])):         \n",
        "  review = re.sub('[^a-zA-Z]',' ',data['Tweet'][i])            \n",
        "  review = review.lower()            \n",
        "  review = review.split()            \n",
        "  ps = PorterStemmer()            \n",
        "  review = [ps.stem(word) for word in review if not word in set(stopwords.words('english'))]            \n",
        "  review = ' '.join(review)            \n",
        "  corpus.append(review)"
      ],
      "execution_count": 0,
      "outputs": []
    },
    {
      "cell_type": "code",
      "metadata": {
        "id": "Aswfj1ZdGo5J",
        "colab_type": "code",
        "colab": {}
      },
      "source": [
        "data['Corpus']=corpus"
      ],
      "execution_count": 0,
      "outputs": []
    },
    {
      "cell_type": "code",
      "metadata": {
        "id": "V6UxhWdEFNQn",
        "colab_type": "code",
        "colab": {}
      },
      "source": [
        "#target column = ADR_label\n",
        "y = data.ADR_label\n",
        "#splitting data into train & test as we don't have testing data.\n",
        "X_train, X_test, y_train, y_test = train_test_split(data['Corpus'], y, test_size=0.2)"
      ],
      "execution_count": 0,
      "outputs": []
    },
    {
      "cell_type": "code",
      "metadata": {
        "id": "sxk4gCG2G1AO",
        "colab_type": "code",
        "colab": {
          "base_uri": "https://localhost:8080/",
          "height": 221
        },
        "outputId": "d8f5dff4-a209-48f9-c751-edcc164f7226"
      },
      "source": [
        "X_train"
      ],
      "execution_count": 15,
      "outputs": [
        {
          "output_type": "execute_result",
          "data": {
            "text/plain": [
              "20309              toxic usual limit anticholinerg symptom\n",
              "17544    follow widespread use gvo sever complic needl ...\n",
              "16148    basal secretin stimul gastrin respons suppress...\n",
              "13280    histolog cutan lesion show spongiosi infiltr e...\n",
              "11401    report case morbidli obes labor parturi receiv...\n",
              "                               ...                        \n",
              "11490    hepatolithiasi uncommon western countri quit p...\n",
              "5581     conclus case describ clinic signific increas i...\n",
              "19836    three week later die clostridium septicum seps...\n",
              "3818     background assess natur incid risk factor reti...\n",
              "5837     anterior spinal arteri syndrom complic cervic ...\n",
              "Name: Corpus, Length: 18812, dtype: object"
            ]
          },
          "metadata": {
            "tags": []
          },
          "execution_count": 15
        }
      ]
    },
    {
      "cell_type": "code",
      "metadata": {
        "id": "Kk7oBzqLFNQr",
        "colab_type": "code",
        "colab": {
          "base_uri": "https://localhost:8080/",
          "height": 68
        },
        "outputId": "fd88cff0-7968-4cca-d385-81fdd0970ead"
      },
      "source": [
        "#lengths of tweets\n",
        "lens = X_train.str.len()\n",
        "print(\"Mean length of Tweet: %.3f\" % (lens.mean()))\n",
        "print(\"Mean length of Tweet: %.3f\" % (lens.std()))\n",
        "print(\"Mean length of Tweet: %.3f\" % (lens.max()))"
      ],
      "execution_count": 16,
      "outputs": [
        {
          "output_type": "stream",
          "text": [
            "Mean length of Tweet: 88.681\n",
            "Mean length of Tweet: 42.777\n",
            "Mean length of Tweet: 478.000\n"
          ],
          "name": "stdout"
        }
      ]
    },
    {
      "cell_type": "code",
      "metadata": {
        "id": "j-pFY6JIFNQt",
        "colab_type": "code",
        "colab": {
          "base_uri": "https://localhost:8080/",
          "height": 265
        },
        "outputId": "6e658825-67a5-4928-cd2c-92d7e1654d75"
      },
      "source": [
        "#distribution of lens\n",
        "lens.hist();"
      ],
      "execution_count": 17,
      "outputs": [
        {
          "output_type": "display_data",
          "data": {
            "image/png": "[encoded data removed]",
            "text/plain": [
              "<Figure size 432x288 with 1 Axes>"
            ]
          },
          "metadata": {
            "tags": [],
            "needs_background": "light"
          }
        }
      ]
    },
    {
      "cell_type": "code",
      "metadata": {
        "id": "_WUlcE1NFNQw",
        "colab_type": "code",
        "colab": {}
      },
      "source": [
        "#Here we'll be creating a bag of words representation\n",
        "re_tok = re.compile(f'([{string.punctuation}“”¨«»®´·º½¾¿¡§£₤‘’])')\n",
        "def tokenize(s): return re_tok.sub(r' \\1 ', s).split()"
      ],
      "execution_count": 0,
      "outputs": []
    },
    {
      "cell_type": "code",
      "metadata": {
        "id": "uxF8QWrXFNQy",
        "colab_type": "code",
        "colab": {}
      },
      "source": [
        "#We'll use ngrams and Tfidf for feature engineering.\n",
        "vec = TfidfVectorizer(ngram_range=(1,2), tokenizer=tokenize,\n",
        "               min_df=3, max_df=0.9, strip_accents='unicode', use_idf=1,\n",
        "               smooth_idf=1, sublinear_tf=1 )\n",
        "trn_term_doc = vec.fit_transform(X_train)\n",
        "test_term_doc = vec.transform(X_test)"
      ],
      "execution_count": 0,
      "outputs": []
    },
    {
      "cell_type": "code",
      "metadata": {
        "id": "4pe4nSkEFNQ1",
        "colab_type": "code",
        "colab": {
          "base_uri": "https://localhost:8080/",
          "height": 85
        },
        "outputId": "2b34b014-abc9-45ee-ebff-619bf6dca748"
      },
      "source": [
        "trn_term_doc,test_term_doc"
      ],
      "execution_count": 21,
      "outputs": [
        {
          "output_type": "execute_result",
          "data": {
            "text/plain": [
              "(<18812x20552 sparse matrix of type '<class 'numpy.float64'>'\n",
              " \twith 311214 stored elements in Compressed Sparse Row format>,\n",
              " <4704x20552 sparse matrix of type '<class 'numpy.float64'>'\n",
              " \twith 72852 stored elements in Compressed Sparse Row format>)"
            ]
          },
          "metadata": {
            "tags": []
          },
          "execution_count": 21
        }
      ]
    },
    {
      "cell_type": "code",
      "metadata": {
        "id": "ebdzTlSsFNQ7",
        "colab_type": "code",
        "colab": {}
      },
      "source": [
        "#string converted to numbers for train data\n",
        "x = trn_term_doc \n",
        "#string converted to numbers for test data\n",
        "test_x = test_term_doc"
      ],
      "execution_count": 0,
      "outputs": []
    },
    {
      "cell_type": "code",
      "metadata": {
        "id": "Yvprk7RcFNQ9",
        "colab_type": "code",
        "colab": {}
      },
      "source": [
        "target = ['ADR_label']"
      ],
      "execution_count": 0,
      "outputs": []
    },
    {
      "cell_type": "code",
      "metadata": {
        "id": "4LjDLrTCFNRA",
        "colab_type": "code",
        "colab": {
          "base_uri": "https://localhost:8080/",
          "height": 102
        },
        "outputId": "0d5f0822-a719-4e54-b751-c2889f4ced37"
      },
      "source": [
        "#trying first with LR and parameters taken from a kaggle kernel\n",
        "lr_model = LogisticRegression(verbose=1, solver='liblinear',random_state=0, C=5, penalty='l2',max_iter=1000)\n",
        "lr_model.fit(x,y_train)"
      ],
      "execution_count": 24,
      "outputs": [
        {
          "output_type": "stream",
          "text": [
            "[LibLinear]"
          ],
          "name": "stdout"
        },
        {
          "output_type": "execute_result",
          "data": {
            "text/plain": [
              "LogisticRegression(C=5, class_weight=None, dual=False, fit_intercept=True,\n",
              "                   intercept_scaling=1, l1_ratio=None, max_iter=1000,\n",
              "                   multi_class='auto', n_jobs=None, penalty='l2',\n",
              "                   random_state=0, solver='liblinear', tol=0.0001, verbose=1,\n",
              "                   warm_start=False)"
            ]
          },
          "metadata": {
            "tags": []
          },
          "execution_count": 24
        }
      ]
    },
    {
      "cell_type": "code",
      "metadata": {
        "id": "17SrkrbjFNRD",
        "colab_type": "code",
        "colab": {
          "base_uri": "https://localhost:8080/",
          "height": 34
        },
        "outputId": "9ac7049a-9803-4c5f-fe51-a878e989fe83"
      },
      "source": [
        "#make predictions and check score\n",
        "lr_predictions = lr_model.predict(test_x)\n",
        "print(lr_model.score(test_x, y_test))"
      ],
      "execution_count": 25,
      "outputs": [
        {
          "output_type": "stream",
          "text": [
            "0.8903061224489796\n"
          ],
          "name": "stdout"
        }
      ]
    },
    {
      "cell_type": "code",
      "metadata": {
        "id": "8yEw5DrqFNRG",
        "colab_type": "code",
        "colab": {
          "base_uri": "https://localhost:8080/",
          "height": 34
        },
        "outputId": "e08644a3-2a37-4c1b-9aa5-b186b9e9a3a7"
      },
      "source": [
        "#trying MultiNB\n",
        "mnb_model = MultinomialNB(alpha=0.1)\n",
        "mnb_model.fit(x, y_train)"
      ],
      "execution_count": 26,
      "outputs": [
        {
          "output_type": "execute_result",
          "data": {
            "text/plain": [
              "MultinomialNB(alpha=0.1, class_prior=None, fit_prior=True)"
            ]
          },
          "metadata": {
            "tags": []
          },
          "execution_count": 26
        }
      ]
    },
    {
      "cell_type": "code",
      "metadata": {
        "id": "v4hi1QNRFNRL",
        "colab_type": "code",
        "colab": {
          "base_uri": "https://localhost:8080/",
          "height": 34
        },
        "outputId": "2af25925-a887-4041-b71a-a75538c580cd"
      },
      "source": [
        "#make predictions and check score\n",
        "mnb_predictions = mnb_model.predict(test_x)\n",
        "print(mnb_model.score(test_x, y_test))"
      ],
      "execution_count": 27,
      "outputs": [
        {
          "output_type": "stream",
          "text": [
            "0.8618197278911565\n"
          ],
          "name": "stdout"
        }
      ]
    },
    {
      "cell_type": "code",
      "metadata": {
        "id": "TLdHLKuvFNRN",
        "colab_type": "code",
        "colab": {}
      },
      "source": [
        "#let's check auc score \n",
        "lr_auc = roc_auc_score(y_test, lr_predictions)\n",
        "mnb_auc = roc_auc_score(y_test, mnb_predictions)"
      ],
      "execution_count": 0,
      "outputs": []
    },
    {
      "cell_type": "code",
      "metadata": {
        "id": "nNaTl4OfFNRQ",
        "colab_type": "code",
        "colab": {
          "base_uri": "https://localhost:8080/",
          "height": 51
        },
        "outputId": "f2917024-61a5-4a02-8852-584b66c50213"
      },
      "source": [
        "print('Logistic: ROC AUC=%.3f' % (lr_auc))\n",
        "print('MultinomialNB: ROC AUC=%.3f' % (mnb_auc))"
      ],
      "execution_count": 29,
      "outputs": [
        {
          "output_type": "stream",
          "text": [
            "Logistic: ROC AUC=0.855\n",
            "MultinomialNB: ROC AUC=0.801\n"
          ],
          "name": "stdout"
        }
      ]
    },
    {
      "cell_type": "code",
      "metadata": {
        "id": "L89UMyplFNRS",
        "colab_type": "code",
        "colab": {}
      },
      "source": [
        "lr_fpr, lr_tpr, _ = roc_curve(y_test, lr_predictions)\n",
        "mnb_fpr, mnb_tpr, _ = roc_curve(y_test, mnb_predictions)"
      ],
      "execution_count": 0,
      "outputs": []
    },
    {
      "cell_type": "code",
      "metadata": {
        "id": "57wwT95XFNRU",
        "colab_type": "code",
        "colab": {
          "base_uri": "https://localhost:8080/",
          "height": 279
        },
        "outputId": "9f2fbd75-d35e-467f-ac85-20f159f92009"
      },
      "source": [
        "pyplot.plot(lr_fpr, lr_tpr, marker='.', label='Logistic')\n",
        "pyplot.plot(mnb_fpr, mnb_tpr, marker='.', label='MulitnomialNB')\n",
        "# axis labels\n",
        "pyplot.xlabel('False Positive Rate')\n",
        "pyplot.ylabel('True Positive Rate')\n",
        "# show the legend\n",
        "pyplot.legend()\n",
        "# show the plot\n",
        "pyplot.show()"
      ],
      "execution_count": 31,
      "outputs": [
        {
          "output_type": "display_data",
          "data": {
            "image/png": "[encoded data removed]",
            "text/plain": [
              "<Figure size 432x288 with 1 Axes>"
            ]
          },
          "metadata": {
            "tags": [],
            "needs_background": "light"
          }
        }
      ]
    },
    {
      "cell_type": "code",
      "metadata": {
        "id": "zChBE65UFNRW",
        "colab_type": "code",
        "colab": {
          "base_uri": "https://localhost:8080/",
          "height": 313
        },
        "outputId": "f31c4734-237b-4b0b-a01c-e3ca5972978f"
      },
      "source": [
        "#calculating precision and recall for both models\n",
        "lr_precision, lr_recall, _ = precision_recall_curve(y_test, lr_predictions)\n",
        "mnb_precision, mnb_recall, _ = precision_recall_curve(y_test, mnb_predictions)\n",
        "lr_f1, lr_auc = f1_score(y_test, lr_predictions), auc(lr_recall, lr_precision)\n",
        "mnb_f1, mnb_auc = f1_score(y_test, mnb_predictions), auc(mnb_recall, mnb_precision)\n",
        "# summarize scores\n",
        "print('Logistic: f1=%.3f auc=%.3f' % (lr_f1, lr_auc))\n",
        "print('MultinomialNB: f1=%.3f auc=%.3f' % (mnb_f1, mnb_auc))\n",
        "# plot the precision-recall curves\n",
        "pyplot.plot(lr_recall, lr_precision, marker='.', label='Logistic')\n",
        "pyplot.plot(mnb_recall, mnb_precision, marker='.', label='MultinomialNB')\n",
        "# axis labels\n",
        "pyplot.xlabel('Recall')\n",
        "pyplot.ylabel('Precision')\n",
        "# show the legend\n",
        "pyplot.legend()\n",
        "# show the plot\n",
        "pyplot.show()"
      ],
      "execution_count": 32,
      "outputs": [
        {
          "output_type": "stream",
          "text": [
            "Logistic: f1=0.803 auc=0.838\n",
            "MultinomialNB: f1=0.733 auc=0.794\n"
          ],
          "name": "stdout"
        },
        {
          "output_type": "display_data",
          "data": {
            "image/png": "[encoded data removed]",
            "text/plain": [
              "<Figure size 432x288 with 1 Axes>"
            ]
          },
          "metadata": {
            "tags": [],
            "needs_background": "light"
          }
        }
      ]
    },
    {
      "cell_type": "markdown",
      "metadata": {
        "id": "aimRFvVfFNRZ",
        "colab_type": "text"
      },
      "source": [
        "As we saw, Logistic Regression performed good above. So we'll try to hypertune it and try to achieve better accuracy"
      ]
    },
    {
      "cell_type": "code",
      "metadata": {
        "id": "bJFfplUaFNRa",
        "colab_type": "code",
        "colab": {}
      },
      "source": [
        "# Create regularization penalty space\n",
        "penalty = ['l1', 'l2']\n",
        "\n",
        "# Create regularization hyperparameter space\n",
        "C = np.logspace(0, 4, 10)\n",
        "\n",
        "# Create hyperparameter options\n",
        "hyperparameters = dict(C=C, penalty=penalty)"
      ],
      "execution_count": 0,
      "outputs": []
    },
    {
      "cell_type": "code",
      "metadata": {
        "id": "Otd-ozYqFNRd",
        "colab_type": "code",
        "colab": {}
      },
      "source": [
        "clf = GridSearchCV(lr_model, hyperparameters, cv=5, verbose=0)"
      ],
      "execution_count": 0,
      "outputs": []
    },
    {
      "cell_type": "code",
      "metadata": {
        "id": "AiREclr6FNRh",
        "colab_type": "code",
        "colab": {
          "base_uri": "https://localhost:8080/",
          "height": 54
        },
        "outputId": "f029d604-4128-48df-b6a6-aca0981350eb"
      },
      "source": [
        "best_model = clf.fit(x,y_train)"
      ],
      "execution_count": 35,
      "outputs": [
        {
          "output_type": "stream",
          "text": [
            "[LibLinear][LibLinear][LibLinear][LibLinear][LibLinear][LibLinear][LibLinear][LibLinear][LibLinear][LibLinear][LibLinear][LibLinear][LibLinear][LibLinear][LibLinear][LibLinear][LibLinear][LibLinear][LibLinear][LibLinear][LibLinear][LibLinear][LibLinear][LibLinear][LibLinear][LibLinear][LibLinear][LibLinear][LibLinear][LibLinear][LibLinear][LibLinear][LibLinear][LibLinear][LibLinear][LibLinear][LibLinear][LibLinear][LibLinear][LibLinear][LibLinear][LibLinear][LibLinear][LibLinear][LibLinear][LibLinear][LibLinear][LibLinear][LibLinear][LibLinear][LibLinear][LibLinear][LibLinear][LibLinear][LibLinear][LibLinear][LibLinear][LibLinear][LibLinear][LibLinear][LibLinear][LibLinear][LibLinear][LibLinear][LibLinear][LibLinear][LibLinear][LibLinear][LibLinear][LibLinear][LibLinear][LibLinear][LibLinear][LibLinear][LibLinear][LibLinear][LibLinear][LibLinear][LibLinear][LibLinear][LibLinear][LibLinear][LibLinear][LibLinear][LibLinear][LibLinear][LibLinear][LibLinear][LibLinear][LibLinear][LibLinear][LibLinear][LibLinear][LibLinear][LibLinear][LibLinear][LibLinear][LibLinear][LibLinear][LibLinear][LibLinear]"
          ],
          "name": "stdout"
        }
      ]
    },
    {
      "cell_type": "code",
      "metadata": {
        "id": "VnKp2AzeFNRk",
        "colab_type": "code",
        "colab": {
          "base_uri": "https://localhost:8080/",
          "height": 51
        },
        "outputId": "6d15d5c8-742b-4891-dbe9-a789fa17566f"
      },
      "source": [
        "print('Best Penalty:', best_model.best_estimator_.get_params()['penalty'])\n",
        "print('Best C:', best_model.best_estimator_.get_params()['C'])"
      ],
      "execution_count": 36,
      "outputs": [
        {
          "output_type": "stream",
          "text": [
            "Best Penalty: l2\n",
            "Best C: 21.544346900318832\n"
          ],
          "name": "stdout"
        }
      ]
    },
    {
      "cell_type": "code",
      "metadata": {
        "id": "e0IRUP6hFNRo",
        "colab_type": "code",
        "colab": {
          "base_uri": "https://localhost:8080/",
          "height": 34
        },
        "outputId": "b83d212b-b700-42ae-87a7-5c96b19ff864"
      },
      "source": [
        "cv_predictions = best_model.predict(test_x)\n",
        "print(best_model.score(test_x, y_test))"
      ],
      "execution_count": 37,
      "outputs": [
        {
          "output_type": "stream",
          "text": [
            "0.8943452380952381\n"
          ],
          "name": "stdout"
        }
      ]
    },
    {
      "cell_type": "code",
      "metadata": {
        "id": "_KrtuGX7FNRr",
        "colab_type": "code",
        "colab": {}
      },
      "source": [
        "cv_auc = roc_auc_score(y_test, cv_predictions)"
      ],
      "execution_count": 0,
      "outputs": []
    },
    {
      "cell_type": "code",
      "metadata": {
        "id": "Xd5n-uYHFNRu",
        "colab_type": "code",
        "colab": {}
      },
      "source": [
        "cv_fpr, cv_tpr, _ = roc_curve(y_test, cv_predictions)"
      ],
      "execution_count": 0,
      "outputs": []
    },
    {
      "cell_type": "code",
      "metadata": {
        "id": "qclFX4xfFNRx",
        "colab_type": "code",
        "colab": {
          "base_uri": "https://localhost:8080/",
          "height": 34
        },
        "outputId": "6956527f-278f-4cd9-9bce-e25b57c23c8c"
      },
      "source": [
        "print('Tuned_Logistic: ROC AUC=%.3f' % (cv_auc))"
      ],
      "execution_count": 40,
      "outputs": [
        {
          "output_type": "stream",
          "text": [
            "Tuned_Logistic: ROC AUC=0.868\n"
          ],
          "name": "stdout"
        }
      ]
    },
    {
      "cell_type": "code",
      "metadata": {
        "id": "Gf8aGnaUFNRz",
        "colab_type": "code",
        "colab": {
          "base_uri": "https://localhost:8080/",
          "height": 279
        },
        "outputId": "31246d9d-11f6-44ff-e1f6-0399e8f8438a"
      },
      "source": [
        "pyplot.plot(lr_fpr, lr_tpr, marker='.', label='Logistic')\n",
        "pyplot.plot(cv_fpr, cv_tpr, marker='.', label='TunedLR')\n",
        "# axis labels\n",
        "pyplot.xlabel('False Positive Rate')\n",
        "pyplot.ylabel('True Positive Rate')\n",
        "# show the legend\n",
        "pyplot.legend()\n",
        "# show the plot\n",
        "pyplot.show()"
      ],
      "execution_count": 41,
      "outputs": [
        {
          "output_type": "display_data",
          "data": {
            "image/png": "[encoded data removed]",
            "text/plain": [
              "<Figure size 432x288 with 1 Axes>"
            ]
          },
          "metadata": {
            "tags": [],
            "needs_background": "light"
          }
        }
      ]
    },
    {
      "cell_type": "code",
      "metadata": {
        "id": "e_5FHCMdFNR1",
        "colab_type": "code",
        "colab": {
          "base_uri": "https://localhost:8080/",
          "height": 313
        },
        "outputId": "dafc550f-34fd-4a5b-eee0-c8a2f2defe81"
      },
      "source": [
        "lr_precision, lr_recall, _ = precision_recall_curve(y_test, lr_predictions)\n",
        "cv_precision, cv_recall, _ = precision_recall_curve(y_test, cv_predictions)\n",
        "lr_f1, lr_auc = f1_score(y_test, lr_predictions), auc(lr_recall, lr_precision)\n",
        "cv_f1, cv_auc = f1_score(y_test, cv_predictions), auc(cv_recall, cv_precision)\n",
        "# summarize scores\n",
        "print('Logistic: f1=%.3f auc=%.3f' % (lr_f1, lr_auc))\n",
        "print('TunedCV: f1=%.3f auc=%.3f' % (cv_f1, cv_auc))\n",
        "# plot the precision-recall curves\n",
        "pyplot.plot(lr_recall, lr_precision, marker='.', label='Logistic')\n",
        "pyplot.plot(cv_recall, cv_precision, marker='.', label='Tuned Logistic')\n",
        "# axis labels\n",
        "pyplot.xlabel('Recall')\n",
        "pyplot.ylabel('Precision')\n",
        "# show the legend\n",
        "pyplot.legend()\n",
        "# show the plot\n",
        "pyplot.show()"
      ],
      "execution_count": 42,
      "outputs": [
        {
          "output_type": "stream",
          "text": [
            "Logistic: f1=0.803 auc=0.838\n",
            "TunedCV: f1=0.816 auc=0.844\n"
          ],
          "name": "stdout"
        },
        {
          "output_type": "display_data",
          "data": {
            "image/png": "[encoded data removed]",
            "text/plain": [
              "<Figure size 432x288 with 1 Axes>"
            ]
          },
          "metadata": {
            "tags": [],
            "needs_background": "light"
          }
        }
      ]
    },
    {
      "cell_type": "markdown",
      "metadata": {
        "id": "OnpkrRJmFNR4",
        "colab_type": "text"
      },
      "source": [
        "Next, I'll try to process the text in a better way as now I've only removed punctuation and stopwords. Also we'll try to implement a Neural Network using Keras."
      ]
    },
    {
      "cell_type": "code",
      "metadata": {
        "id": "JiChAXt5KzNp",
        "colab_type": "code",
        "colab": {}
      },
      "source": [
        ""
      ],
      "execution_count": 0,
      "outputs": []
    }
  ]
}